{
 "cells": [
  {
   "cell_type": "code",
   "execution_count": 1,
   "id": "cc4798ec",
   "metadata": {},
   "outputs": [
    {
     "ename": "ModuleNotFoundError",
     "evalue": "No module named 'pandas'",
     "output_type": "error",
     "traceback": [
      "\u001b[0;31m---------------------------------------------------------------------------\u001b[0m",
      "\u001b[0;31mModuleNotFoundError\u001b[0m                       Traceback (most recent call last)",
      "Cell \u001b[0;32mIn[1], line 5\u001b[0m\n\u001b[1;32m      3\u001b[0m \u001b[38;5;28;01mimport\u001b[39;00m \u001b[38;5;21;01mnumpy\u001b[39;00m \u001b[38;5;28;01mas\u001b[39;00m \u001b[38;5;21;01mnp\u001b[39;00m \u001b[38;5;66;03m# linear algebra\u001b[39;00m\n\u001b[1;32m      4\u001b[0m \u001b[38;5;28;01mimport\u001b[39;00m \u001b[38;5;21;01mos\u001b[39;00m \u001b[38;5;66;03m# accessing directory structure\u001b[39;00m\n\u001b[0;32m----> 5\u001b[0m \u001b[38;5;28;01mimport\u001b[39;00m \u001b[38;5;21;01mpandas\u001b[39;00m \u001b[38;5;28;01mas\u001b[39;00m \u001b[38;5;21;01mpd\u001b[39;00m \u001b[38;5;66;03m# data processing, CSV file I/O (e.g. pd.read_csv)\u001b[39;00m\n",
      "\u001b[0;31mModuleNotFoundError\u001b[0m: No module named 'pandas'"
     ]
    }
   ],
   "source": [
    "from sklearn.preprocessing import StandardScaler\n",
    "import matplotlib.pyplot as plt # plotting\n",
    "import numpy as np # linear algebra\n",
    "import os # accessing directory structure\n",
    "import pandas as pd # data processing, CSV file I/O (e.g. pd.read_csv)"
   ]
  },
  {
   "cell_type": "code",
   "execution_count": null,
   "id": "39f3547c",
   "metadata": {},
   "outputs": [],
   "source": [
    "nRowsRead = None # specify 'None' if want to read whole file\n",
    "# model_2015_ST4000DM000.csv has 1243993 rows in reality, but we are only loading/previewing the first 1000 rows\n",
    "df1 = pd.read_csv('input/model_2015_ST4000DM000.csv', delimiter=',', nrows = nRowsRead)\n",
    "df1.dataframeName = 'model_2015_ST4000DM000.csv'\n",
    "nRow, nCol = df1.shape\n",
    "print(f'There are {nRow} rows and {nCol} columns')"
   ]
  },
  {
   "cell_type": "code",
   "execution_count": null,
   "id": "2e3d7b3c",
   "metadata": {},
   "outputs": [],
   "source": [
    "df1.head(5)"
   ]
  },
  {
   "cell_type": "code",
   "execution_count": null,
   "id": "a0b76667",
   "metadata": {},
   "outputs": [],
   "source": [
    "df1.describe()"
   ]
  },
  {
   "cell_type": "code",
   "execution_count": null,
   "id": "5226656b",
   "metadata": {},
   "outputs": [],
   "source": [
    "df1.info()"
   ]
  },
  {
   "cell_type": "code",
   "execution_count": null,
   "id": "1a636571",
   "metadata": {},
   "outputs": [],
   "source": [
    "df1_cleaned = df1.dropna(axis=1, how='all')\n",
    "df1_cleaned = df1_cleaned.dropna(axis = 0, how = 'all')\n",
    "df1_cleaned = df1_cleaned[[i for i in df1_cleaned if df1_cleaned[i].nunique()>1]]\n",
    "df1_cleaned.describe()"
   ]
  },
  {
   "cell_type": "code",
   "execution_count": null,
   "id": "040daca6",
   "metadata": {},
   "outputs": [],
   "source": [
    "df1_cleaned.info()"
   ]
  },
  {
   "cell_type": "code",
   "execution_count": null,
   "id": "3b48944a",
   "metadata": {},
   "outputs": [],
   "source": [
    "group_1 = df1_cleaned.groupby('serial_number')\n",
    "group_1.size()"
   ]
  },
  {
   "cell_type": "code",
   "execution_count": null,
   "id": "c6210fd1",
   "metadata": {},
   "outputs": [],
   "source": [
    "df1_cleaned.head()"
   ]
  },
  {
   "cell_type": "code",
   "execution_count": null,
   "id": "d521dccb",
   "metadata": {},
   "outputs": [],
   "source": [
    "failure = group_1.filter(lambda x : x['failure'].sum() > 0).groupby('serial_number')\n",
    "success = group_1.filter(lambda x : x['failure'].sum() <= 0).groupby('serial_number')"
   ]
  },
  {
   "cell_type": "code",
   "execution_count": null,
   "id": "66fcb13f",
   "metadata": {},
   "outputs": [],
   "source": [
    "list(failure)"
   ]
  },
  {
   "cell_type": "code",
   "execution_count": null,
   "id": "f79b869f",
   "metadata": {},
   "outputs": [],
   "source": []
  }
 ],
 "metadata": {
  "kernelspec": {
   "display_name": "Python 3 (ipykernel)",
   "language": "python",
   "name": "python3"
  },
  "language_info": {
   "codemirror_mode": {
    "name": "ipython",
    "version": 3
   },
   "file_extension": ".py",
   "mimetype": "text/x-python",
   "name": "python",
   "nbconvert_exporter": "python",
   "pygments_lexer": "ipython3",
   "version": "3.11.5"
  }
 },
 "nbformat": 4,
 "nbformat_minor": 5
}
